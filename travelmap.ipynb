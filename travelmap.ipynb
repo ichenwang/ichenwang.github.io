{
 "cells": [
  {
   "cell_type": "markdown",
   "metadata": {},
   "source": [
    "# Leaflet cluster map of talk locations\n",
    "\n",
    "Run this from the _talks/ directory, which contains .md files of all your talks. This scrapes the location YAML field from each .md file, geolocates it with geopy/Nominatim, and uses the getorg library to output data, HTML, and Javascript for a standalone cluster map."
   ]
  },
  {
   "cell_type": "code",
   "execution_count": 1,
   "metadata": {},
   "outputs": [
    {
     "name": "stdout",
     "output_type": "stream",
     "text": [
      "IPywidgets and ipyleaflet support enabled.\n"
     ]
    }
   ],
   "source": [
    "# !pip install getorg --upgrade\n",
    "import glob\n",
    "import getorg\n",
    "from geopy import Nominatim"
   ]
  },
  {
   "cell_type": "code",
   "execution_count": 2,
   "metadata": {},
   "outputs": [],
   "source": [
    "g = glob.glob(\"_travels/*.md\")"
   ]
  },
  {
   "cell_type": "code",
   "execution_count": 3,
   "metadata": {},
   "outputs": [],
   "source": [
    "location_dict = {}\n",
    "location = \"\"\n",
    "permalink = \"\"\n",
    "title = \"\"\n",
    "geocoder = Nominatim(user_agent=\"my-application\")\n"
   ]
  },
  {
   "cell_type": "code",
   "execution_count": 4,
   "metadata": {},
   "outputs": [],
   "source": [
    "# location = geocoder.geocode(\"Putuoshan, China\", timeout=10)\n",
    "# print(location)"
   ]
  },
  {
   "cell_type": "code",
   "execution_count": 5,
   "metadata": {},
   "outputs": [
    {
     "name": "stdout",
     "output_type": "stream",
     "text": [
      "Lijiang, China \n",
      " 丽江市, 云南省, China 中国\n",
      "Dali, China \n",
      " 大理白族自治州, 云南省, China 中国\n",
      "Chongqing, China \n",
      " 重庆市, 重庆市中心, 渝中区 (Yuzhong), 重庆市, 400014, China 中国\n",
      "Huangshan, China \n",
      " 安徽省黄山风景区, 黄山区, 黄山市区, 黄山市 / Huangshan, 安徽省, China 中国\n",
      "Lhasa, China \n",
      " 拉萨市, ཁྲིན་ཀོན་ཆུས་ / 城关区 / Chengguan, ལྷ་ས་གྲོང་ཁྱེར་ / 拉萨市 / Lhasa, 西藏自治区, 850000, China 中国\n",
      "Ngari Prefecture, China \n",
      " མངའ་རིས་ས་ཁུལ་ / 阿里地区 / Ngari, 西藏自治区, China 中国\n",
      "Turpan, China \n",
      " 吐鲁番市, 高昌区 قاراھوجا رايونى, 吐鲁番市تۇرپان شەھىرى, 新疆维吾尔自治区, 838000, China 中国\n",
      "Xiamen, China \n",
      " 厦门市, 福建省, China 中国\n",
      "Putuoshan, China \n",
      " 舟山普陀山机场, 银雁路, 普陀区, 普陀区 (Putuo), 舟山市, 浙江省, 316100, China 中国\n",
      "Chengdu, China \n",
      " 成都市, 青羊区 (Qingyang), 成都市, 四川省, 610015, 中国\n",
      "Jerusalem, Israel \n",
      " ירושלים, מחוז ירושלים, ישראל\n",
      "Angkor Wat, Cambodia \n",
      " អង្គរវត្ត, Temporary bridge, ក្រុងសៀមរាប, ខេត្តសៀមរាប, 17295, Cambodia\n",
      "Ho Chi Minh City, Vietnam \n",
      " Thành phố Hồ Chí Minh, Việt Nam\n",
      "Mui Ne, Vietnam \n",
      " Mũi Né, Phan Thiết, Tỉnh Bình Thuận, 8000, Việt Nam\n",
      "Nha Trang, Vietnam \n",
      " Nha Trang, Tỉnh Khánh Hòa, 48058, Việt Nam\n",
      "Chiang Mai, Thailand \n",
      " เชียงใหม่, จังหวัดเชียงใหม่, 4452, ประเทศไทย\n",
      "HK, China \n",
      " 香港 Hong Kong, China 中国\n",
      "Kathmandu, Nepal \n",
      " Kathmandu, काठमाडौं, मध्यमाञ्चल विकास क्षेत्र, 66400, Nepal\n",
      "Pokhara, Nepal \n",
      " Pokhara, कास्की, पश्चिमाञ्चल विकास क्षेत्र, 3, Nepal\n"
     ]
    }
   ],
   "source": [
    "for file in g:\n",
    "    with open(file, 'r') as f:\n",
    "        lines = f.read()\n",
    "        if lines.find('location: \"') > 1:\n",
    "            loc_start = lines.find('location: \"') + 11\n",
    "            lines_trim = lines[loc_start:]\n",
    "            loc_end = lines_trim.find('\"')\n",
    "            location = lines_trim[:loc_end]\n",
    "            \n",
    "#             print(location)\n",
    "                            \n",
    "        location_dict[location] = geocoder.geocode(location, timeout=10)\n",
    "        print(location, \"\\n\", location_dict[location])\n"
   ]
  },
  {
   "cell_type": "code",
   "execution_count": 6,
   "metadata": {},
   "outputs": [
    {
     "data": {
      "text/plain": [
       "'Written map to travelmap/'"
      ]
     },
     "execution_count": 6,
     "metadata": {},
     "output_type": "execute_result"
    }
   ],
   "source": [
    "m = getorg.orgmap.create_map_obj()\n",
    "getorg.orgmap.output_html_cluster_map(location_dict, folder_name=\"travelmap\", hashed_usernames=False)"
   ]
  }
 ],
 "metadata": {
  "anaconda-cloud": {},
  "kernelspec": {
   "display_name": "Python 3",
   "language": "python",
   "name": "python3"
  },
  "language_info": {
   "codemirror_mode": {
    "name": "ipython",
    "version": 3
   },
   "file_extension": ".py",
   "mimetype": "text/x-python",
   "name": "python",
   "nbconvert_exporter": "python",
   "pygments_lexer": "ipython3",
   "version": "3.7.4"
  }
 },
 "nbformat": 4,
 "nbformat_minor": 1
}
